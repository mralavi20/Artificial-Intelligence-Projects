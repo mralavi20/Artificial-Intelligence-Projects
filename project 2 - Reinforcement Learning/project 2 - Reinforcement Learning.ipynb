{
 "cells": [
  {
   "cell_type": "markdown",
   "metadata": {
    "id": "d0W-WuYsjWPP"
   },
   "source": [
    "# Artificial Intelligence Course - Fall 1402\n",
    "## Computer Assignment #2 - Reinforcement Learning"
   ]
  },
  {
   "cell_type": "markdown",
   "metadata": {
    "id": "ksnYjMyNPAcn"
   },
   "source": [
    "# Table of Contents\n",
    "\n",
    "- [Part 1: Value Iteration & Policy Iteration Algorithms](#1)\n",
    "    - [َQuestion 1:](#1-0)\n",
    "    - [َQuestion 2:](#1-1)\n",
    "    - [َQuestion 3:](#1-12)\n",
    "    - [َQuestion 4:](#1-2)\n",
    "    - [َQuestion 5:](#1-3)\n",
    "        - [Value Iteration](#1-3-1)\n",
    "        - [Policy Iteration](#1-3-2)\n",
    "    - [َQuestion 6:](#1-4)\n",
    "        - [Value Iteration](#1-4-1)\n",
    "        - [Policy Iteration](#1-4-2)\n",
    "- [Part 2: Q-Learning Algorithm](#2)\n",
    "    - [َQuestion 8:](#2-1)\n",
    "    - [َQuestion 9:](#2-2)\n",
    "    - [َQuestion 10:](#2-3)"
   ]
  },
  {
   "cell_type": "code",
   "execution_count": 1,
   "metadata": {
    "id": "dpTWKluXMHP5"
   },
   "outputs": [],
   "source": [
    "# import\n",
    "import numpy as np\n",
    "import gym\n",
    "import time\n",
    "import tkinter as tk\n",
    "import matplotlib.pyplot as plt"
   ]
  },
  {
   "cell_type": "markdown",
   "metadata": {
    "id": "EifP8FUKLXE7"
   },
   "source": [
    "<a name='1'></a>\n",
    "## Part 1: Value Iteration & Policy Iteration Algorithms"
   ]
  },
  {
   "cell_type": "code",
   "execution_count": 2,
   "metadata": {
    "id": "8LizJeOYRMEq"
   },
   "outputs": [],
   "source": [
    "env = gym.make('FrozenLake-v1', desc=None, map_name=\"4x4\", render_mode = \"human\", is_slippery=False)"
   ]
  },
  {
   "cell_type": "code",
   "execution_count": 3,
   "metadata": {
    "colab": {
     "base_uri": "https://localhost:8080/"
    },
    "id": "YZARu6LDSqj_",
    "outputId": "2f22167b-c6ef-493d-bec3-264a93e5d8cb"
   },
   "outputs": [
    {
     "name": "stdout",
     "output_type": "stream",
     "text": [
      "you can see the environment in each step by render command :\n"
     ]
    }
   ],
   "source": [
    "# get familiar with the environment\n",
    "print(\"you can see the environment in each step by render command :\")\n",
    "env.reset()\n",
    "env.render()"
   ]
  },
  {
   "cell_type": "code",
   "execution_count": 4,
   "metadata": {
    "colab": {
     "base_uri": "https://localhost:8080/"
    },
    "id": "x5QTTUSrSM-L",
    "outputId": "206e612c-52ca-49d4-91b8-31f9faf5f1bc"
   },
   "outputs": [
    {
     "data": {
      "text/plain": [
       "16"
      ]
     },
     "execution_count": 4,
     "metadata": {},
     "output_type": "execute_result"
    }
   ],
   "source": [
    "# Total no. of states\n",
    "env.observation_space.n"
   ]
  },
  {
   "cell_type": "code",
   "execution_count": 5,
   "metadata": {
    "colab": {
     "base_uri": "https://localhost:8080/"
    },
    "id": "EeaBqUeZSNNY",
    "outputId": "46e8a041-a1e4-4e43-c22a-4e2c1a3a3ddc"
   },
   "outputs": [
    {
     "data": {
      "text/plain": [
       "4"
      ]
     },
     "execution_count": 5,
     "metadata": {},
     "output_type": "execute_result"
    }
   ],
   "source": [
    "# Total no. of actions\n",
    "env.action_space.n"
   ]
  },
  {
   "cell_type": "markdown",
   "metadata": {
    "id": "iVJmGmCUnIGR"
   },
   "source": [
    "<a name='1-0'></a>\n",
    "### Question 1:"
   ]
  },
  {
   "cell_type": "markdown",
   "metadata": {
    "id": "xRDhQMwwnK2s"
   },
   "source": [
    "Value iteration is used in reinforcement learning and it is a dynamic programming algorithm and used to find optimal value and policy for MDP. In this algorithm we iterate each state and find the action that maximize the value of the state. The value of each state: v(s) = max(a) (sum (p(s,a,s') * (r(s,a,s') + gama * v(s')))). We repeat that until valus converage to a optimal value and find that if difference of values if a state is less than a threshold."
   ]
  },
  {
   "cell_type": "markdown",
   "metadata": {
    "id": "MO24LtBGLXZ7"
   },
   "source": [
    "<a name='1-1'></a>\n",
    "### Question 2:"
   ]
  },
  {
   "cell_type": "code",
   "execution_count": 6,
   "metadata": {
    "id": "VKP8LjK5jGoW"
   },
   "outputs": [],
   "source": [
    "class ValueIteration():\n",
    "    def __init__(self, env, discount_factor, theta=1e-8):\n",
    "        self.env = env\n",
    "        self.discount_factor = discount_factor\n",
    "        self.theta = theta\n",
    "        self.reset()\n",
    "        self.state_values = np.ones((self.env.observation_space.n)) / self.env.action_space.n\n",
    "        self.q_values = np.ones((self.env.observation_space.n, self.env.action_space.n)) / self.env.action_space.n\n",
    "        self.state_values[self.env.observation_space.n - 1] = 0\n",
    "        self.q_values[self.env.observation_space.n - 1] = np.zeros((self.env.action_space.n))\n",
    "\n",
    "    def value_estimation(self):\n",
    "        self.delta = np.inf\n",
    "\n",
    "        while(self.delta > self.theta):\n",
    "\n",
    "            self.delta = 0\n",
    "\n",
    "            for state in range(self.env.observation_space.n):\n",
    "\n",
    "                v = self.state_values[state]\n",
    "\n",
    "                for action in range(self.env.action_space.n):\n",
    "                    action_value = 0\n",
    "                    for probability, next_state, reward, done in self.env.P[state][action]:\n",
    "                        ### START CODE HERE ###\n",
    "                         action_value += probability * (reward + (self.discount_factor * self.state_values[next_state]))\n",
    "                        ### END CODE HERE ###\n",
    "                    self.q_values[state, action] = action_value\n",
    "\n",
    "                self.state_values[state] = np.max(self.q_values[state,:])\n",
    "\n",
    "                self.delta = np.max([self.delta, abs(v - self.state_values[state])])\n",
    "\n",
    "                if (self.delta < self.theta):\n",
    "                    break\n",
    "\n",
    "    def take_action(self, action):\n",
    "        next_state, reward, done, _, _ = self.env.step(action)\n",
    "        return next_state, reward, done\n",
    "\n",
    "    def get_optimal_policy(self, state):\n",
    "        return np.argmax(self.q_values[state,:])\n",
    "\n",
    "    def get_state_values(self):\n",
    "        return self.state_values\n",
    "\n",
    "    def get_q_values(self):\n",
    "        return self.q_values\n",
    "\n",
    "    def reset(self):\n",
    "        initial_state = self.env.reset()\n",
    "        return initial_state"
   ]
  },
  {
   "cell_type": "markdown",
   "metadata": {
    "id": "frjc5mR4ncm1"
   },
   "source": [
    "<a name='1-12'></a>\n",
    "### Question 3:"
   ]
  },
  {
   "cell_type": "markdown",
   "metadata": {
    "id": "AMJJpf1tnddF"
   },
   "source": [
    "Policy iteration is used in reinforcement learning and it is a dynamic programmming algorithm. It si used to find an optimal policy for MDP. It has two part: 1- policy evaluation: In this part we evaluate values for a fixed policy. 2- Policy improvment: In this part we update policy according to values for each state we select the acetion that maximize the value. We repeat that until the policy doesn't change."
   ]
  },
  {
   "cell_type": "markdown",
   "metadata": {
    "id": "V4DcH5yJLXqH"
   },
   "source": [
    "<a name='1-2'></a>\n",
    "### Question 4:"
   ]
  },
  {
   "cell_type": "code",
   "execution_count": 7,
   "metadata": {
    "executionInfo": {
     "elapsed": 14,
     "status": "ok",
     "timestamp": 1698433256083,
     "user": {
      "displayName": "Mohammad Saadati",
      "userId": "00242434153251678664"
     },
     "user_tz": -210
    },
    "id": "XjSb1lX147hd"
   },
   "outputs": [],
   "source": [
    "class PolicyIteration():\n",
    "    def __init__(self, env, discount_factor, theta=1e-8):\n",
    "        self.env = env\n",
    "        self.discount_factor = discount_factor\n",
    "        self.theta = theta\n",
    "        self.reset()\n",
    "        self.state_values = np.ones((self.env.observation_space.n)) / self.env.action_space.n\n",
    "        self.q_values = np.ones((self.env.observation_space.n, self.env.action_space.n)) / self.env.action_space.n\n",
    "        self.state_values[self.env.observation_space.n - 1] = 0\n",
    "        self.q_values[self.env.observation_space.n - 1] = np.zeros((self.env.action_space.n))\n",
    "        self.policy = np.random.randint(self.env.action_space.n, size=self.env.observation_space.n) # initial policy\n",
    "        self.policy_stable = False\n",
    "\n",
    "    def policy_evaluation(self):\n",
    "        self.delta = np.inf\n",
    "\n",
    "        while(self.delta >= self.theta):\n",
    "\n",
    "            self.delta = 0\n",
    "\n",
    "            for state in range(self.env.observation_space.n):\n",
    "\n",
    "                v = self.state_values[state]\n",
    "\n",
    "                new_state_value = 0\n",
    "                for probability, next_state, reward, done in self.env.P[state][self.policy[state]]:\n",
    "                    ### START CODE HERE ###\n",
    "                    new_state_value += probability * (reward + (self.discount_factor * self.state_values[next_state]))\n",
    "                    ### END CODE HERE ###\n",
    "                self.state_values[state] = new_state_value\n",
    "\n",
    "                self.delta = np.max([self.delta, abs(v - self.state_values[state])])\n",
    "\n",
    "    def policy_improvement(self):\n",
    "        self.policy_stable = True\n",
    "\n",
    "        for state in range(self.env.observation_space.n):\n",
    "            old_policy = self.policy[state]\n",
    "\n",
    "            for action in range(self.env.action_space.n):\n",
    "\n",
    "                action_value = 0\n",
    "                for probability, next_state, reward, done in self.env.P[state][action]:\n",
    "                    ### START CODE HERE ###\n",
    "                    action_value += probability * (reward + (self.discount_factor * self.state_values[next_state]))\n",
    "                    ### END CODE HERE ###\n",
    "                self.q_values[state, action] = action_value\n",
    "\n",
    "            self.policy[state] = np.argmax(self.q_values[state,:])\n",
    "\n",
    "            if old_policy != self.policy[state]:\n",
    "                self.policy_stable = False\n",
    "\n",
    "    def policy_estimation(self):\n",
    "        self.policy_stable = False\n",
    "\n",
    "        while not self.policy_stable:\n",
    "            self.policy_evaluation()\n",
    "            self.policy_improvement()\n",
    "\n",
    "    def take_action(self, action):\n",
    "        next_state, reward, done, _, _ = self.env.step(action)\n",
    "        return next_state, reward, done\n",
    "\n",
    "    def get_optimal_policy(self, state):\n",
    "        return self.policy[state]\n",
    "\n",
    "    def get_state_values(self):\n",
    "        return self.state_values\n",
    "\n",
    "    def get_q_values(self):\n",
    "        return self.q_values\n",
    "\n",
    "    def reset(self):\n",
    "        initial_state = self.env.reset()\n",
    "        return initial_state"
   ]
  },
  {
   "cell_type": "markdown",
   "metadata": {
    "id": "u4G-kVjmLYj4"
   },
   "source": [
    "<a name='1-3'></a>\n",
    "### Question 5:"
   ]
  },
  {
   "cell_type": "markdown",
   "metadata": {
    "id": "PB651-ZY4vjE"
   },
   "source": [
    "<a name='1-3-1'></a>\n",
    "#### Value Iteration:"
   ]
  },
  {
   "cell_type": "code",
   "execution_count": 8,
   "metadata": {
    "id": "RGYLOfYAuKjY"
   },
   "outputs": [
    {
     "name": "stdout",
     "output_type": "stream",
     "text": [
      "time1:  0.0039538717269897465\n"
     ]
    },
    {
     "name": "stderr",
     "output_type": "stream",
     "text": [
      "C:\\Users\\Mohammad Reza\\AppData\\Roaming\\Python\\Python311\\site-packages\\gym\\utils\\passive_env_checker.py:233: DeprecationWarning: `np.bool8` is a deprecated alias for `np.bool_`.  (Deprecated NumPy 1.24)\n",
      "  if not isinstance(terminated, (bool, np.bool8)):\n"
     ]
    },
    {
     "name": "stdout",
     "output_type": "stream",
     "text": [
      "[[0.531441   0.59049    0.59049    0.531441  ]\n",
      " [0.531441   0.13286025 0.6561     0.59049   ]\n",
      " [0.59049    0.729      0.59049    0.6561    ]\n",
      " [0.6561     0.13286025 0.59049    0.59049   ]\n",
      " [0.59049    0.6561     0.13286025 0.531441  ]\n",
      " [0.13286025 0.13286025 0.13286025 0.13286025]\n",
      " [0.11957423 0.81       0.13286025 0.6561    ]\n",
      " [0.13286025 0.13286025 0.13286025 0.13286025]\n",
      " [0.6561     0.13286025 0.729      0.59049   ]\n",
      " [0.6561     0.81       0.81       0.11957423]\n",
      " [0.729      0.9        0.13286025 0.729     ]\n",
      " [0.13286025 0.13286025 0.13286025 0.13286025]\n",
      " [0.13286025 0.13286025 0.13286025 0.13286025]\n",
      " [0.11957423 0.81       0.9        0.729     ]\n",
      " [0.81       0.9        1.         0.81      ]\n",
      " [0.         0.         0.         0.        ]]\n"
     ]
    }
   ],
   "source": [
    "df = 0.9\n",
    "episode_number = 100\n",
    "\n",
    "s1 = ValueIteration (env, df)\n",
    "\n",
    "total_time = 0\n",
    "\n",
    "for i in range (episode_number):\n",
    "    s1 = ValueIteration (env, df)\n",
    "    s1.reset ()\n",
    "    start_time = time.time ()\n",
    "    s1.value_estimation ()\n",
    "    finish_time = time.time ()\n",
    "    total_time = total_time + (finish_time - start_time)\n",
    "\n",
    "d1 = total_time / episode_number\n",
    "print (\"time1: \", d1)\n",
    "\n",
    "action = s1.get_optimal_policy (0)\n",
    "\n",
    "env.reset ()\n",
    "env.render ()\n",
    "\n",
    "while True:\n",
    "    next_state,reward,done = s1.take_action (action)\n",
    "    action = s1.get_optimal_policy (next_state)\n",
    "    env.render ()\n",
    "    time.sleep (1)\n",
    "    \n",
    "    if  done:\n",
    "        break\n",
    "\n",
    "state_values = s1.get_state_values ()\n",
    "q_values = s1.get_q_values ()\n",
    "print (q_values)\n",
    "\n",
    "rows_num = 4\n",
    "cols_num = 4\n",
    "\n",
    "window1 = tk.Tk ()\n",
    "window1.title (\"State Values\")\n",
    "\n",
    "for i in range (rows_num):\n",
    "    for j in range (cols_num):\n",
    "        index = (4 * i) + j\n",
    "        text_value = str (state_values[index])\n",
    "        cell = tk.Label (window1, text = text_value, bg = \"yellow\")\n",
    "        cell.grid (row = i, column = j, padx = 10, pady = 10)\n",
    "\n",
    "window1.mainloop ()\n",
    "\n",
    "\n",
    "actions = []\n",
    "for i in range (16):\n",
    "    action = s1.get_optimal_policy (i)\n",
    "    \n",
    "    if (action == 0):\n",
    "        a = \"←\"\n",
    "    elif (action == 1):\n",
    "        a = \"↓\"\n",
    "    elif (action == 2):\n",
    "        a = \"→\"\n",
    "    else:\n",
    "        a = \"↑\"\n",
    "    \n",
    "    actions.append (a)\n",
    "\n",
    "window2 = tk.Tk ()\n",
    "window2.title (\"Policy\")\n",
    "\n",
    "for i in range (rows_num):\n",
    "    for j in range (cols_num):\n",
    "        index = (4 * i) + j\n",
    "        text_value = actions[index]\n",
    "        cell = tk.Label (window2, text = text_value, bg = \"yellow\")\n",
    "        cell.grid (row = i, column = j, padx = 10, pady = 10)\n",
    "\n",
    "window2.mainloop ()"
   ]
  },
  {
   "cell_type": "markdown",
   "metadata": {
    "id": "ipZlzoXH40Mn"
   },
   "source": [
    "<a name='1-3-2'></a>\n",
    "#### Policy Iteration:"
   ]
  },
  {
   "cell_type": "code",
   "execution_count": 9,
   "metadata": {
    "id": "7Vxf_xKc44QT"
   },
   "outputs": [
    {
     "name": "stdout",
     "output_type": "stream",
     "text": [
      "time2:  0.031020586490631104\n",
      "[[5.31441000e-01 5.90490000e-01 5.90490000e-01 5.31441000e-01]\n",
      " [5.31441000e-01 2.24536249e-08 6.56100000e-01 5.90490000e-01]\n",
      " [5.90490000e-01 7.29000000e-01 5.90490000e-01 6.56100000e-01]\n",
      " [6.56100000e-01 2.24536249e-08 5.90490000e-01 5.90490000e-01]\n",
      " [5.90490000e-01 6.56100000e-01 2.24536249e-08 5.31441000e-01]\n",
      " [2.24536249e-08 2.24536249e-08 2.24536249e-08 2.24536249e-08]\n",
      " [2.24536249e-08 8.10000000e-01 2.24536249e-08 6.56100000e-01]\n",
      " [2.24536249e-08 2.24536249e-08 2.24536249e-08 2.24536249e-08]\n",
      " [6.56100000e-01 2.24536249e-08 7.29000000e-01 5.90490000e-01]\n",
      " [6.56100000e-01 8.10000000e-01 8.10000000e-01 2.24536249e-08]\n",
      " [7.29000000e-01 9.00000000e-01 2.24536249e-08 7.29000000e-01]\n",
      " [2.24536249e-08 2.24536249e-08 2.24536249e-08 2.24536249e-08]\n",
      " [2.24536249e-08 2.24536249e-08 2.24536249e-08 2.24536249e-08]\n",
      " [2.24536249e-08 8.10000000e-01 9.00000000e-01 7.29000000e-01]\n",
      " [8.10000000e-01 9.00000000e-01 1.00000000e+00 8.10000000e-01]\n",
      " [0.00000000e+00 0.00000000e+00 0.00000000e+00 0.00000000e+00]]\n"
     ]
    }
   ],
   "source": [
    "df = 0.9\n",
    "episode_number = 100\n",
    "\n",
    "s2 = PolicyIteration (env, df)\n",
    "\n",
    "total_time = 0\n",
    "for i in range (episode_number):\n",
    "    s2 = PolicyIteration (env, df)\n",
    "    s2.reset ()\n",
    "    start_time = time.time ()\n",
    "    s2.policy_estimation ()\n",
    "    finish_time = time.time ()\n",
    "    total_time = total_time + (finish_time - start_time)\n",
    "\n",
    "d2 = total_time / episode_number\n",
    "print (\"time2: \", d2)\n",
    "\n",
    "action = s2.get_optimal_policy (0)\n",
    "\n",
    "env.reset ()\n",
    "env.render ()\n",
    "\n",
    "while True:\n",
    "    next_state,reward,done = s2.take_action (action)\n",
    "    action = s2.get_optimal_policy (next_state)\n",
    "    env.render ()\n",
    "    time.sleep (1)\n",
    "    \n",
    "    if  done:\n",
    "        break\n",
    "\n",
    "state_values = s2.get_state_values ()\n",
    "q_values = s2.get_q_values ()\n",
    "print (q_values)\n",
    "\n",
    "rows_num = 4\n",
    "cols_num = 4\n",
    "\n",
    "window1 = tk.Tk ()\n",
    "window1.title (\"State Values\")\n",
    "\n",
    "for i in range (rows_num):\n",
    "    for j in range (cols_num):\n",
    "        index = (4 * i) + j\n",
    "        text_value = str (state_values[index])\n",
    "        cell = tk.Label (window1, text = text_value, bg = \"yellow\")\n",
    "        cell.grid (row = i, column = j, padx = 10, pady = 10)\n",
    "\n",
    "window1.mainloop ()\n",
    "\n",
    "\n",
    "actions = []\n",
    "for i in range (16):\n",
    "    action = s2.get_optimal_policy (i)\n",
    "    \n",
    "    if (action == 0):\n",
    "        a = \"←\"\n",
    "    elif (action == 1):\n",
    "        a = \"↓\"\n",
    "    elif (action == 2):\n",
    "        a = \"→\"\n",
    "    else:\n",
    "        a = \"↑\"\n",
    "    \n",
    "    actions.append (a)\n",
    "\n",
    "window2 = tk.Tk ()\n",
    "window2.title (\"Policy\")\n",
    "\n",
    "for i in range (rows_num):\n",
    "    for j in range (cols_num):\n",
    "        index = (4 * i) + j\n",
    "        text_value = actions[index]\n",
    "        cell = tk.Label (window2, text = text_value, bg = \"yellow\")\n",
    "        cell.grid (row = i, column = j, padx = 10, pady = 10)\n",
    "\n",
    "window2.mainloop ()"
   ]
  },
  {
   "cell_type": "markdown",
   "metadata": {
    "id": "A3fnAFqJLpVI"
   },
   "source": [
    "<a name='1-4'></a>\n",
    "### Question 6:"
   ]
  },
  {
   "cell_type": "markdown",
   "metadata": {},
   "source": [
    "Both algorithm converge to the optimal policy and both give us same policy and state values. Policy iteration is faster than value iteration and converge faster because it fixes a policy and calaulate values base on that and improve the policy. But here because the problem is simple both algorithms are almost same and converge fast."
   ]
  },
  {
   "cell_type": "markdown",
   "metadata": {
    "id": "7JuoMPH_PAcv"
   },
   "source": [
    "<a name='1-4-1'></a>\n",
    "#### Value Iteration:"
   ]
  },
  {
   "cell_type": "markdown",
   "metadata": {
    "id": "vCBnAicAPAcv"
   },
   "source": []
  },
  {
   "cell_type": "markdown",
   "metadata": {
    "id": "C1BMk-BfPAcv"
   },
   "source": [
    "<a name='1-4-2'></a>\n",
    "#### Policy Iteration:"
   ]
  },
  {
   "cell_type": "markdown",
   "metadata": {
    "id": "LnUZpvLP446n"
   },
   "source": []
  },
  {
   "cell_type": "markdown",
   "metadata": {
    "id": "hLtPLm-ELpG9"
   },
   "source": [
    "<a name='2'></a>\n",
    "## Part 2: Q-Learning Algorithm"
   ]
  },
  {
   "cell_type": "markdown",
   "metadata": {},
   "source": [
    "### Question 7"
   ]
  },
  {
   "cell_type": "markdown",
   "metadata": {},
   "source": [
    "Q-learning algorithm is a reinforcement learning algorithm and it is used to solve MDP to find optimal policy by. It estimate value of each state-action. Agent can decide explore or exploit. Exploration means take a random action to discover. Exploitaion means take an action based on estimated Q-values. It will converage to the optimal policy."
   ]
  },
  {
   "cell_type": "code",
   "execution_count": 10,
   "metadata": {
    "id": "3cW_rkeDMOE8"
   },
   "outputs": [],
   "source": [
    "# hyperparameters\n",
    "REPS = 1\n",
    "EPISODES = 2000\n",
    "EPSILON = 0.1\n",
    "LEARNING_RATE = 0.1\n",
    "DISCOUNT = 0.9\n",
    "STUDENT_NUM = 253"
   ]
  },
  {
   "cell_type": "code",
   "execution_count": 11,
   "metadata": {
    "id": "L1c1w7tRMOR_"
   },
   "outputs": [
    {
     "data": {
      "text/plain": [
       "351"
      ]
     },
     "execution_count": 11,
     "metadata": {},
     "output_type": "execute_result"
    }
   ],
   "source": [
    "# environment\n",
    "env = gym.make('Taxi-v3')\n",
    "#env.seed(seed = STUDENT_NUM)\n",
    "Initial_State = env.reset()[0]\n",
    "Initial_State"
   ]
  },
  {
   "cell_type": "code",
   "execution_count": 12,
   "metadata": {
    "id": "ou0fWiX_MsZb"
   },
   "outputs": [
    {
     "data": {
      "text/plain": [
       "(3, 2, 2, 3)"
      ]
     },
     "execution_count": 12,
     "metadata": {},
     "output_type": "execute_result"
    }
   ],
   "source": [
    "taxi_row, taxi_col, pass_idx, dest_idx = env.decode(Initial_State)\n",
    "taxi_row, taxi_col, pass_idx, dest_idx"
   ]
  },
  {
   "cell_type": "code",
   "execution_count": 13,
   "metadata": {
    "id": "-8tJoWefMOdT"
   },
   "outputs": [
    {
     "name": "stdout",
     "output_type": "stream",
     "text": [
      "you can see the environment in each step by render command :\n"
     ]
    },
    {
     "name": "stderr",
     "output_type": "stream",
     "text": [
      "C:\\Users\\Mohammad Reza\\AppData\\Roaming\\Python\\Python311\\site-packages\\gym\\envs\\toy_text\\taxi.py:282: UserWarning: \u001b[33mWARN: You are calling render method without specifying any render mode. You can specify the render_mode at initialization, e.g. gym(\"Taxi-v3\", render_mode=\"rgb_array\")\u001b[0m\n",
      "  logger.warn(\n"
     ]
    },
    {
     "ename": "AssertionError",
     "evalue": "Something went wrong with pygame. This should never happen.",
     "output_type": "error",
     "traceback": [
      "\u001b[1;31m---------------------------------------------------------------------------\u001b[0m",
      "\u001b[1;31mAssertionError\u001b[0m                            Traceback (most recent call last)",
      "Cell \u001b[1;32mIn[13], line 3\u001b[0m\n\u001b[0;32m      1\u001b[0m \u001b[38;5;66;03m# get familiar with the environment\u001b[39;00m\n\u001b[0;32m      2\u001b[0m \u001b[38;5;28mprint\u001b[39m(\u001b[38;5;124m\"\u001b[39m\u001b[38;5;124myou can see the environment in each step by render command :\u001b[39m\u001b[38;5;124m\"\u001b[39m)\n\u001b[1;32m----> 3\u001b[0m env\u001b[38;5;241m.\u001b[39mrender()\n",
      "File \u001b[1;32m~\\AppData\\Roaming\\Python\\Python311\\site-packages\\gym\\core.py:329\u001b[0m, in \u001b[0;36mWrapper.render\u001b[1;34m(self, *args, **kwargs)\u001b[0m\n\u001b[0;32m    325\u001b[0m \u001b[38;5;28;01mdef\u001b[39;00m \u001b[38;5;21mrender\u001b[39m(\n\u001b[0;32m    326\u001b[0m     \u001b[38;5;28mself\u001b[39m, \u001b[38;5;241m*\u001b[39margs, \u001b[38;5;241m*\u001b[39m\u001b[38;5;241m*\u001b[39mkwargs\n\u001b[0;32m    327\u001b[0m ) \u001b[38;5;241m-\u001b[39m\u001b[38;5;241m>\u001b[39m Optional[Union[RenderFrame, List[RenderFrame]]]:\n\u001b[0;32m    328\u001b[0m \u001b[38;5;250m    \u001b[39m\u001b[38;5;124;03m\"\"\"Renders the environment.\"\"\"\u001b[39;00m\n\u001b[1;32m--> 329\u001b[0m     \u001b[38;5;28;01mreturn\u001b[39;00m \u001b[38;5;28mself\u001b[39m\u001b[38;5;241m.\u001b[39menv\u001b[38;5;241m.\u001b[39mrender(\u001b[38;5;241m*\u001b[39margs, \u001b[38;5;241m*\u001b[39m\u001b[38;5;241m*\u001b[39mkwargs)\n",
      "File \u001b[1;32m~\\AppData\\Roaming\\Python\\Python311\\site-packages\\gym\\wrappers\\order_enforcing.py:51\u001b[0m, in \u001b[0;36mOrderEnforcing.render\u001b[1;34m(self, *args, **kwargs)\u001b[0m\n\u001b[0;32m     46\u001b[0m \u001b[38;5;28;01mif\u001b[39;00m \u001b[38;5;129;01mnot\u001b[39;00m \u001b[38;5;28mself\u001b[39m\u001b[38;5;241m.\u001b[39m_disable_render_order_enforcing \u001b[38;5;129;01mand\u001b[39;00m \u001b[38;5;129;01mnot\u001b[39;00m \u001b[38;5;28mself\u001b[39m\u001b[38;5;241m.\u001b[39m_has_reset:\n\u001b[0;32m     47\u001b[0m     \u001b[38;5;28;01mraise\u001b[39;00m ResetNeeded(\n\u001b[0;32m     48\u001b[0m         \u001b[38;5;124m\"\u001b[39m\u001b[38;5;124mCannot call `env.render()` before calling `env.reset()`, if this is a intended action, \u001b[39m\u001b[38;5;124m\"\u001b[39m\n\u001b[0;32m     49\u001b[0m         \u001b[38;5;124m\"\u001b[39m\u001b[38;5;124mset `disable_render_order_enforcing=True` on the OrderEnforcer wrapper.\u001b[39m\u001b[38;5;124m\"\u001b[39m\n\u001b[0;32m     50\u001b[0m     )\n\u001b[1;32m---> 51\u001b[0m \u001b[38;5;28;01mreturn\u001b[39;00m \u001b[38;5;28mself\u001b[39m\u001b[38;5;241m.\u001b[39menv\u001b[38;5;241m.\u001b[39mrender(\u001b[38;5;241m*\u001b[39margs, \u001b[38;5;241m*\u001b[39m\u001b[38;5;241m*\u001b[39mkwargs)\n",
      "File \u001b[1;32m~\\AppData\\Roaming\\Python\\Python311\\site-packages\\gym\\wrappers\\env_checker.py:53\u001b[0m, in \u001b[0;36mPassiveEnvChecker.render\u001b[1;34m(self, *args, **kwargs)\u001b[0m\n\u001b[0;32m     51\u001b[0m \u001b[38;5;28;01mif\u001b[39;00m \u001b[38;5;28mself\u001b[39m\u001b[38;5;241m.\u001b[39mchecked_render \u001b[38;5;129;01mis\u001b[39;00m \u001b[38;5;28;01mFalse\u001b[39;00m:\n\u001b[0;32m     52\u001b[0m     \u001b[38;5;28mself\u001b[39m\u001b[38;5;241m.\u001b[39mchecked_render \u001b[38;5;241m=\u001b[39m \u001b[38;5;28;01mTrue\u001b[39;00m\n\u001b[1;32m---> 53\u001b[0m     \u001b[38;5;28;01mreturn\u001b[39;00m env_render_passive_checker(\u001b[38;5;28mself\u001b[39m\u001b[38;5;241m.\u001b[39menv, \u001b[38;5;241m*\u001b[39margs, \u001b[38;5;241m*\u001b[39m\u001b[38;5;241m*\u001b[39mkwargs)\n\u001b[0;32m     54\u001b[0m \u001b[38;5;28;01melse\u001b[39;00m:\n\u001b[0;32m     55\u001b[0m     \u001b[38;5;28;01mreturn\u001b[39;00m \u001b[38;5;28mself\u001b[39m\u001b[38;5;241m.\u001b[39menv\u001b[38;5;241m.\u001b[39mrender(\u001b[38;5;241m*\u001b[39margs, \u001b[38;5;241m*\u001b[39m\u001b[38;5;241m*\u001b[39mkwargs)\n",
      "File \u001b[1;32m~\\AppData\\Roaming\\Python\\Python311\\site-packages\\gym\\utils\\passive_env_checker.py:316\u001b[0m, in \u001b[0;36menv_render_passive_checker\u001b[1;34m(env, *args, **kwargs)\u001b[0m\n\u001b[0;32m    310\u001b[0m     \u001b[38;5;28;01melse\u001b[39;00m:\n\u001b[0;32m    311\u001b[0m         \u001b[38;5;28;01massert\u001b[39;00m env\u001b[38;5;241m.\u001b[39mrender_mode \u001b[38;5;129;01mis\u001b[39;00m \u001b[38;5;28;01mNone\u001b[39;00m \u001b[38;5;129;01mor\u001b[39;00m env\u001b[38;5;241m.\u001b[39mrender_mode \u001b[38;5;129;01min\u001b[39;00m render_modes, (\n\u001b[0;32m    312\u001b[0m             \u001b[38;5;124m\"\u001b[39m\u001b[38;5;124mThe environment was initialized successfully however with an unsupported render mode. \u001b[39m\u001b[38;5;124m\"\u001b[39m\n\u001b[0;32m    313\u001b[0m             \u001b[38;5;124mf\u001b[39m\u001b[38;5;124m\"\u001b[39m\u001b[38;5;124mRender mode: \u001b[39m\u001b[38;5;132;01m{\u001b[39;00menv\u001b[38;5;241m.\u001b[39mrender_mode\u001b[38;5;132;01m}\u001b[39;00m\u001b[38;5;124m, modes: \u001b[39m\u001b[38;5;132;01m{\u001b[39;00mrender_modes\u001b[38;5;132;01m}\u001b[39;00m\u001b[38;5;124m\"\u001b[39m\n\u001b[0;32m    314\u001b[0m         )\n\u001b[1;32m--> 316\u001b[0m result \u001b[38;5;241m=\u001b[39m env\u001b[38;5;241m.\u001b[39mrender(\u001b[38;5;241m*\u001b[39margs, \u001b[38;5;241m*\u001b[39m\u001b[38;5;241m*\u001b[39mkwargs)\n\u001b[0;32m    318\u001b[0m \u001b[38;5;66;03m# TODO: Check that the result is correct\u001b[39;00m\n\u001b[0;32m    320\u001b[0m \u001b[38;5;28;01mreturn\u001b[39;00m result\n",
      "File \u001b[1;32m~\\AppData\\Roaming\\Python\\Python311\\site-packages\\gym\\envs\\toy_text\\taxi.py:290\u001b[0m, in \u001b[0;36mTaxiEnv.render\u001b[1;34m(self)\u001b[0m\n\u001b[0;32m    288\u001b[0m     \u001b[38;5;28;01mreturn\u001b[39;00m \u001b[38;5;28mself\u001b[39m\u001b[38;5;241m.\u001b[39m_render_text()\n\u001b[0;32m    289\u001b[0m \u001b[38;5;28;01melse\u001b[39;00m:  \u001b[38;5;66;03m# self.render_mode in {\"human\", \"rgb_array\"}:\u001b[39;00m\n\u001b[1;32m--> 290\u001b[0m     \u001b[38;5;28;01mreturn\u001b[39;00m \u001b[38;5;28mself\u001b[39m\u001b[38;5;241m.\u001b[39m_render_gui(\u001b[38;5;28mself\u001b[39m\u001b[38;5;241m.\u001b[39mrender_mode)\n",
      "File \u001b[1;32m~\\AppData\\Roaming\\Python\\Python311\\site-packages\\gym\\envs\\toy_text\\taxi.py:309\u001b[0m, in \u001b[0;36mTaxiEnv._render_gui\u001b[1;34m(self, mode)\u001b[0m\n\u001b[0;32m    305\u001b[0m     \u001b[38;5;28;01melif\u001b[39;00m mode \u001b[38;5;241m==\u001b[39m \u001b[38;5;124m\"\u001b[39m\u001b[38;5;124mrgb_array\u001b[39m\u001b[38;5;124m\"\u001b[39m:\n\u001b[0;32m    306\u001b[0m         \u001b[38;5;28mself\u001b[39m\u001b[38;5;241m.\u001b[39mwindow \u001b[38;5;241m=\u001b[39m pygame\u001b[38;5;241m.\u001b[39mSurface(WINDOW_SIZE)\n\u001b[0;32m    308\u001b[0m \u001b[38;5;28;01massert\u001b[39;00m (\n\u001b[1;32m--> 309\u001b[0m     \u001b[38;5;28mself\u001b[39m\u001b[38;5;241m.\u001b[39mwindow \u001b[38;5;129;01mis\u001b[39;00m \u001b[38;5;129;01mnot\u001b[39;00m \u001b[38;5;28;01mNone\u001b[39;00m\n\u001b[0;32m    310\u001b[0m ), \u001b[38;5;124m\"\u001b[39m\u001b[38;5;124mSomething went wrong with pygame. This should never happen.\u001b[39m\u001b[38;5;124m\"\u001b[39m\n\u001b[0;32m    311\u001b[0m \u001b[38;5;28;01mif\u001b[39;00m \u001b[38;5;28mself\u001b[39m\u001b[38;5;241m.\u001b[39mclock \u001b[38;5;129;01mis\u001b[39;00m \u001b[38;5;28;01mNone\u001b[39;00m:\n\u001b[0;32m    312\u001b[0m     \u001b[38;5;28mself\u001b[39m\u001b[38;5;241m.\u001b[39mclock \u001b[38;5;241m=\u001b[39m pygame\u001b[38;5;241m.\u001b[39mtime\u001b[38;5;241m.\u001b[39mClock()\n",
      "\u001b[1;31mAssertionError\u001b[0m: Something went wrong with pygame. This should never happen."
     ]
    }
   ],
   "source": [
    "# get familiar with the environment\n",
    "print(\"you can see the environment in each step by render command :\")\n",
    "env.render()"
   ]
  },
  {
   "cell_type": "code",
   "execution_count": null,
   "metadata": {
    "id": "mQCB-ZIfNwJM"
   },
   "outputs": [],
   "source": [
    "# Total no. of states\n",
    "env.observation_space.n"
   ]
  },
  {
   "cell_type": "code",
   "execution_count": 14,
   "metadata": {
    "id": "lmk_EYbKNwYT"
   },
   "outputs": [
    {
     "data": {
      "text/plain": [
       "6"
      ]
     },
     "execution_count": 14,
     "metadata": {},
     "output_type": "execute_result"
    }
   ],
   "source": [
    "# Total no. of actions\n",
    "env.action_space.n"
   ]
  },
  {
   "cell_type": "code",
   "execution_count": 7,
   "metadata": {
    "id": "Et2PlHqMMOoM"
   },
   "outputs": [
    {
     "ename": "SyntaxError",
     "evalue": "invalid syntax (2255913832.py, line 8)",
     "output_type": "error",
     "traceback": [
      "\u001b[1;36m  Cell \u001b[1;32mIn[7], line 8\u001b[1;36m\u001b[0m\n\u001b[1;33m    agent = # Agent Object instance from Algorithm_name(e.g Q_learning_agent) class which has inherited from Agentbase.\u001b[0m\n\u001b[1;37m            ^\u001b[0m\n\u001b[1;31mSyntaxError\u001b[0m\u001b[1;31m:\u001b[0m invalid syntax\n"
     ]
    }
   ],
   "source": [
    "# base code for Q-learning\n",
    "\n",
    "env = gym.make('Taxi-v3')\n",
    "env.seed(seed = STUDENT_NUM)\n",
    "\n",
    "\n",
    "for rep in range(REPS):\n",
    "    agent = # Agent Object instance from Algorithm_name(e.g Q_learning_agent) class which has inherited from Agentbase.\n",
    "    for episode in range(EPISODES):\n",
    "        Initial_state = env.reset()\n",
    "\n",
    "        for ... :\n",
    "\n",
    "            bestAction = np.random.choice(ACTIONS)\n",
    "\n",
    "            next_state,rew,done,_ = environment.step(bestAction)\n",
    "\n",
    "            if done:\n",
    "                break"
   ]
  },
  {
   "cell_type": "markdown",
   "metadata": {
    "id": "oZJAP4nMLpiZ"
   },
   "source": [
    "<a name='2-1'></a>\n",
    "### Question 8:"
   ]
  },
  {
   "cell_type": "code",
   "execution_count": 15,
   "metadata": {
    "executionInfo": {
     "elapsed": 503,
     "status": "ok",
     "timestamp": 1698434549406,
     "user": {
      "displayName": "Mohammad Saadati",
      "userId": "00242434153251678664"
     },
     "user_tz": -210
    },
    "id": "Ue4m5fg9450B"
   },
   "outputs": [],
   "source": [
    "class QLearningAgent():\n",
    "    def __init__(self, env, epsilon, learning_rate, discount_factor, seed):\n",
    "        self.env = env\n",
    "        self.epsilon = epsilon\n",
    "        self.learning_rate = learning_rate\n",
    "        self.olr = learning_rate\n",
    "        self.discount_factor = discount_factor\n",
    "        self.q_table = np.zeros((env.observation_space.n, env.action_space.n))\n",
    "        self.seed = seed\n",
    "\n",
    "    def choose_action(self, state):\n",
    "      ### START CODE HERE ###\n",
    "      # With probability epsilon, choose a random action\n",
    "\n",
    "      # Otherwise, choose the action with the highest Q-value\n",
    "        random_number = np.random.rand ()\n",
    "        \n",
    "        if (random_number < self.epsilon):\n",
    "            action = np.random.choice ([0, 1, 2, 3, 4, 5])\n",
    "        else:\n",
    "            action = np.argmax (self.q_table[state])\n",
    "\n",
    "      ### END CODE HERE ###\n",
    "        return action\n",
    "\n",
    "    def update_q_table(self, state, action, nextState, reward):\n",
    "      ### START CODE HERE ###\n",
    "      # Calculate the new Q-value using the Q-learning formula\n",
    "        self.q_table[state][action] = self.q_table[state][action] + self.learning_rate * (reward + self.discount_factor * np.max(self.q_table[nextState]) - self.q_table[state][action])\n",
    "      ### END CODE HERE ###\n",
    "\n",
    "    def decay_epsilon(self, episode):\n",
    "      ### START CODE HERE ###\n",
    "        self.epsilon = 1 / (episode + 1)\n",
    "      ### END CODE HERE ###\n",
    "\n",
    "    def decrease_learning_rate(self, episode):\n",
    "      ### START CODE HERE ###\n",
    "        self.learning_rate = 0.1 - 0.000045 * episode\n",
    "      ### END CODE HERE ###\n",
    "\n",
    "    def take_action(self, action):\n",
    "        next_state, reward, done, _, _ = self.env.step(action)\n",
    "        return next_state, reward, done\n",
    "\n",
    "    def get_optimal_policy(self, state):\n",
    "        return np.argmax(self.q_table[state])\n",
    "\n",
    "    def get_q_values(self):\n",
    "        return self.q_table\n",
    "\n",
    "    def reset(self):\n",
    "      # self.learning_rate = self.olr\n",
    "      return self.env.reset(seed=self.seed)\n",
    "    \n",
    "    def change_env (self, env):\n",
    "        self.env = env"
   ]
  },
  {
   "cell_type": "markdown",
   "metadata": {
    "id": "c5HFAMk-Lpvs"
   },
   "source": [
    "<a name='2-2'></a>\n",
    "### Question 9:"
   ]
  },
  {
   "cell_type": "code",
   "execution_count": 16,
   "metadata": {
    "id": "qgRhXXmwo6MT"
   },
   "outputs": [
    {
     "name": "stdout",
     "output_type": "stream",
     "text": [
      "reward:  5\n"
     ]
    }
   ],
   "source": [
    "total_rewards1 = []\n",
    "for rep in range(REPS):\n",
    "    rewards1 = []\n",
    "    env = gym.make('Taxi-v3')\n",
    "    agent1 = QLearningAgent (env, EPSILON, LEARNING_RATE, DISCOUNT, STUDENT_NUM)\n",
    "    for episode in range(EPISODES):\n",
    "        initial_state = agent1.reset()[0]\n",
    "        state = initial_state\n",
    "        total_reward = 0\n",
    "        done = False\n",
    "\n",
    "        while True:\n",
    "            action = agent1.choose_action (state)\n",
    "\n",
    "            next_state,reward,done = agent1.take_action (action)\n",
    "            agent1.update_q_table (state, action, next_state, reward)\n",
    "            total_reward = total_reward + reward\n",
    "            state = next_state\n",
    "\n",
    "            if done:\n",
    "                break\n",
    "        rewards1.append (total_reward)\n",
    "                \n",
    "        agent1.decay_epsilon (episode)\n",
    "        \n",
    "    total_rewards1.append (rewards1)\n",
    "    \n",
    "    env = gym.make('Taxi-v3', render_mode = \"human\")\n",
    "    agent1.change_env (env)\n",
    "    \n",
    "    state = agent1.reset ()[0]\n",
    "    total_reward = 0\n",
    "    done = False\n",
    "    \n",
    "    while True:\n",
    "        env.render ()\n",
    "        time.sleep (0.05)\n",
    "        action = agent1.get_optimal_policy (state)\n",
    "        next_state,reward,done = agent1.take_action (action)\n",
    "        total_reward = total_reward + reward\n",
    "        state = next_state\n",
    "        \n",
    "        if done:\n",
    "            break\n",
    "    print (\"reward: \", total_reward)"
   ]
  },
  {
   "cell_type": "code",
   "execution_count": 18,
   "metadata": {},
   "outputs": [
    {
     "name": "stdout",
     "output_type": "stream",
     "text": [
      "reward:  5\n",
      "reward:  5\n",
      "reward:  5\n",
      "reward:  5\n",
      "reward:  5\n",
      "reward:  5\n",
      "reward:  5\n",
      "reward:  5\n",
      "reward:  5\n",
      "reward:  5\n",
      "reward:  5\n",
      "reward:  5\n",
      "reward:  5\n",
      "reward:  5\n",
      "reward:  5\n",
      "reward:  5\n",
      "reward:  5\n",
      "reward:  5\n",
      "reward:  5\n",
      "reward:  5\n"
     ]
    }
   ],
   "source": [
    "total_rewards2 = []\n",
    "for rep in range(REPS):\n",
    "    env = gym.make('Taxi-v3')\n",
    "    rewards2 = []\n",
    "    agent2 = QLearningAgent (env, EPSILON, LEARNING_RATE, DISCOUNT, STUDENT_NUM)\n",
    "    for episode in range(EPISODES):\n",
    "        initial_state = agent2.reset()[0]\n",
    "        state = initial_state\n",
    "        total_reward = 0\n",
    "        done = False\n",
    "\n",
    "        while True:\n",
    "            action = agent2.choose_action (state)\n",
    "\n",
    "            next_state,reward,done = agent2.take_action (action)\n",
    "            agent2.update_q_table (state, action, next_state, reward)\n",
    "            total_reward = total_reward + reward\n",
    "            state = next_state\n",
    "\n",
    "            if done:\n",
    "                break\n",
    "        rewards2.append (total_reward)\n",
    "                \n",
    "        agent2.decay_epsilon (episode)\n",
    "        agent2.decrease_learning_rate (episode)\n",
    "        \n",
    "    total_rewards2.append (rewards2)\n",
    "    \n",
    "    env = gym.make('Taxi-v3', render_mode = \"human\")\n",
    "    agent2.change_env (env)\n",
    "    \n",
    "    state = agent2.reset ()[0]\n",
    "    total_reward = 0\n",
    "    done = False\n",
    "    while True:\n",
    "        env.render ()\n",
    "        time.sleep (0.05)\n",
    "        action = agent2.get_optimal_policy (state)\n",
    "        next_state,reward,done = agent2.take_action (action)\n",
    "        total_reward = total_reward + reward\n",
    "        state = next_state\n",
    "        if done:\n",
    "            break\n",
    "    print (\"reward: \", total_reward)"
   ]
  },
  {
   "cell_type": "markdown",
   "metadata": {
    "id": "BVcMKEGDQWdU"
   },
   "source": [
    "<a name='2-3'></a>\n",
    "### Question 10:"
   ]
  },
  {
   "cell_type": "code",
   "execution_count": 19,
   "metadata": {
    "id": "FlHPV0kqQWdU"
   },
   "outputs": [
    {
     "data": {
      "image/png": "[encoded data removed]",
      "text/plain": [
       "<Figure size 640x480 with 1 Axes>"
      ]
     },
     "metadata": {},
     "output_type": "display_data"
    }
   ],
   "source": [
    "plt.plot (total_rewards1[0][:200])\n",
    "plt.plot ([reward] * 200)\n",
    "plt.title (\"rewards 1\")\n",
    "plt.show ()"
   ]
  },
  {
   "cell_type": "code",
   "execution_count": 20,
   "metadata": {},
   "outputs": [
    {
     "data": {
      "image/png": "[encoded data removed]",
      "text/plain": [
       "<Figure size 640x480 with 1 Axes>"
      ]
     },
     "metadata": {},
     "output_type": "display_data"
    }
   ],
   "source": [
    "plt.plot (total_rewards2[0][:200])\n",
    "plt.plot ([reward] * 200)\n",
    "plt.title (\"rewards 2\")\n",
    "plt.show ()"
   ]
  },
  {
   "cell_type": "markdown",
   "metadata": {},
   "source": [
    "Both solutions converge to the optimal policy. But with decreasing learning_rate it converges faster (Here because the problem is simple and both converge fast it is not clear). Decreasing learning rate can help algoritm to converge more effectively and more stable. But it can also slow down the learing especially in compelex problems. With decreasing learning rate algorithm become more conservative and it helps to prevent from overfitting. We decrease epsilon: 1 / (episode + 1). Because it decrease as episode becomes grater and it has exponential form."
   ]
  }
 ],
 "metadata": {
  "colab": {
   "provenance": [],
   "toc_visible": true
  },
  "kernelspec": {
   "display_name": "Python 3 (ipykernel)",
   "language": "python",
   "name": "python3"
  },
  "language_info": {
   "codemirror_mode": {
    "name": "ipython",
    "version": 3
   },
   "file_extension": ".py",
   "mimetype": "text/x-python",
   "name": "python",
   "nbconvert_exporter": "python",
   "pygments_lexer": "ipython3",
   "version": "3.11.4"
  }
 },
 "nbformat": 4,
 "nbformat_minor": 1
}
