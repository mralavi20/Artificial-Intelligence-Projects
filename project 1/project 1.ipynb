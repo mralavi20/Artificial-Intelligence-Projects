{
 "cells": [
  {
   "cell_type": "markdown",
   "id": "a6b21d2f",
   "metadata": {},
   "source": [
    "# Curve fitting with Genetic Algorithm"
   ]
  },
  {
   "cell_type": "markdown",
   "id": "e43ea82a",
   "metadata": {},
   "source": [
    "## Introduction"
   ]
  },
  {
   "cell_type": "markdown",
   "id": "b8017bc0",
   "metadata": {},
   "source": [
    "In this project we want to solve curve fitting problem with genetic algoritm"
   ]
  },
  {
   "cell_type": "markdown",
   "id": "9cdfac8c",
   "metadata": {},
   "source": [
    "## Part 1: Define basic concepts and definitions"
   ]
  },
  {
   "cell_type": "markdown",
   "id": "52d55669",
   "metadata": {},
   "source": [
    "We have to defien gene and chromosome: <br>\n",
    "We defien each coefficient as gene and the pack of genes from 0 to n that match coefficient 0 to n as chromosome. <br>\n",
    "A chromosome is a solution for the problem that gives us coefficients 0 to n for the curve. <br> <br>\n",
    "For example [n0, n1, n2, n3, n4] is a chromosome that matchs with y = n4 * x^4 + n3 * x^3 + n2 * x^2 + n1 * x^1 + n0"
   ]
  },
  {
   "cell_type": "markdown",
   "id": "e0c58812",
   "metadata": {},
   "source": [
    "### Import liberies"
   ]
  },
  {
   "cell_type": "markdown",
   "id": "e0923f3e",
   "metadata": {},
   "source": [
    "For reading given points we import pandas. <br>\n",
    "For generating random numbers we import random. <br>\n",
    "For plotting result we import matplotlib."
   ]
  },
  {
   "cell_type": "code",
   "execution_count": 14,
   "id": "a1909c06",
   "metadata": {},
   "outputs": [],
   "source": [
    "import pandas as pd\n",
    "import random\n",
    "import matplotlib.pyplot as plt"
   ]
  },
  {
   "cell_type": "markdown",
   "id": "c62e72fe",
   "metadata": {},
   "source": [
    "We have to define fitness funtion.<br>\n",
    "Fitness definition for given coefficients: Sum of the square of the differences between given y and calculated y with applying the coefficients.<br>\n",
    "Here the goal is to minimize the fitness."
   ]
  },
  {
   "cell_type": "code",
   "execution_count": 15,
   "id": "f42241b9",
   "metadata": {},
   "outputs": [],
   "source": [
    "# defining the fitness function\n",
    "def fitness (n, coefs, points):\n",
    "    result = 0\n",
    "\n",
    "    for i in range (len (points)):\n",
    "        y_predict = 0\n",
    "\n",
    "        for j in range (n):\n",
    "            y_predict = y_predict + (coefs[j] * (points[i][0] ** j))\n",
    "        \n",
    "        error = points[i][1] - y_predict\n",
    "        result = result + (error ** 2)\n",
    "    \n",
    "    return result"
   ]
  },
  {
   "cell_type": "markdown",
   "id": "0d9ea72e",
   "metadata": {},
   "source": [
    "Now, we define crossover functions. <br>\n",
    "First one, We select one gene and swap the tails between the parents."
   ]
  },
  {
   "cell_type": "code",
   "execution_count": 16,
   "id": "69e8eaa8",
   "metadata": {},
   "outputs": [],
   "source": [
    "# defien crossover function with one cut point\n",
    "def crossover (parent1, parent2):\n",
    "    index = random.randint (0, len (parent1) - 1)\n",
    "\n",
    "    child1 = parent1[:index] + parent2[index:]\n",
    "    child2 = parent2[:index] + parent2[index:]\n",
    "\n",
    "    return child1, child2"
   ]
  },
  {
   "cell_type": "markdown",
   "id": "5d34fafc",
   "metadata": {},
   "source": [
    "Seccond one, we select two indices and swap that part between two parents"
   ]
  },
  {
   "cell_type": "code",
   "execution_count": 17,
   "id": "87e46be2",
   "metadata": {},
   "outputs": [],
   "source": [
    "# define crossover function with two cut points\n",
    "def crossover2 (parent1, parent2):\n",
    "    num1 = random.randint (0, len (parent1) - 1)\n",
    "    num2 = random.randint (0, len (parent1) - 1)\n",
    "\n",
    "    if (num1 <= num2):\n",
    "        index1 = num1\n",
    "        index2 = num2\n",
    "    else:\n",
    "        index1 = num2\n",
    "        index2 = num1\n",
    "    \n",
    "    child1 = parent1[:index1] + parent2[index1:index2 + 1] + parent1[index2 + 1:]\n",
    "    child2 = parent2[:index1] + parent1[index1:index2 + 1] + parent2[index2 + 1:]\n",
    "\n",
    "    return child1, child2"
   ]
  },
  {
   "cell_type": "markdown",
   "id": "745107f4",
   "metadata": {},
   "source": [
    "We define mutation function: we change each gene of the chromosome with probality p."
   ]
  },
  {
   "cell_type": "code",
   "execution_count": 18,
   "id": "4c0d90ed",
   "metadata": {},
   "outputs": [],
   "source": [
    "# define mutation function\n",
    "def mutation (ch, p, min_c, max_c):\n",
    "    for i in range (len (ch)):\n",
    "        s = random.choices ([0, 1], [p, 1 - p])\n",
    "\n",
    "        if (s[0] == 0):\n",
    "            ch[i] = random.randint (min_c, max_c)\n",
    "        \n",
    "    return ch"
   ]
  },
  {
   "cell_type": "markdown",
   "id": "001aeae1",
   "metadata": {},
   "source": [
    "We define poly function for finding y with give coefficients."
   ]
  },
  {
   "cell_type": "code",
   "execution_count": 19,
   "id": "bae6c254",
   "metadata": {},
   "outputs": [],
   "source": [
    "# define poly function for calculatng values of y\n",
    "def poly (x, coeffs):\n",
    "    y = 0\n",
    "    \n",
    "    for i in range (len (coeffs)):\n",
    "        y = y + (coeffs[i] * (x ** i))\n",
    "    \n",
    "    return y"
   ]
  },
  {
   "cell_type": "markdown",
   "id": "24d1e4bb",
   "metadata": {},
   "source": [
    "Now, we get the inputs and the points and save them"
   ]
  },
  {
   "cell_type": "code",
   "execution_count": 20,
   "id": "e0029313",
   "metadata": {},
   "outputs": [
    {
     "name": "stdout",
     "output_type": "stream",
     "text": [
      "2\n"
     ]
    }
   ],
   "source": [
    "# getting inputs\n",
    "n = int (input ())\n",
    "\n",
    "df = pd.read_csv (\"points.csv\")\n",
    "\n",
    "df = df.sort_values (by= \"x\")\n",
    "\n",
    "x_points = df[\"x\"].tolist ()\n",
    "y_points = df[\"y\"].tolist ()\n",
    "points = []\n",
    "\n",
    "n = n + 1\n",
    "\n",
    "for i in range (len (x_points)):\n",
    "    points = points + [[x_points[i], y_points[i]]]"
   ]
  },
  {
   "cell_type": "markdown",
   "id": "4423ece8",
   "metadata": {},
   "source": [
    "We have to define some parameters, these parameters must be defined by a expert."
   ]
  },
  {
   "cell_type": "code",
   "execution_count": 21,
   "id": "e6f0beee",
   "metadata": {},
   "outputs": [],
   "source": [
    "# define parameters\n",
    "first_population_number = 1024\n",
    "minimum_guess = -5\n",
    "maximum_guess = 5\n",
    "p_mutation = 0.01\n",
    "repeat_times = 500\n",
    "stop_fitness = 0"
   ]
  },
  {
   "cell_type": "markdown",
   "id": "f773996e",
   "metadata": {},
   "source": [
    "## Part 2: Generating first population"
   ]
  },
  {
   "cell_type": "markdown",
   "id": "e77d389a",
   "metadata": {},
   "source": [
    "We generate first population with size of first_population_number and find fitness."
   ]
  },
  {
   "cell_type": "code",
   "execution_count": 22,
   "id": "0f654b88",
   "metadata": {},
   "outputs": [],
   "source": [
    "population = []\n",
    "\n",
    "# generate first population\n",
    "for i in range (first_population_number):\n",
    "    chromosome = []\n",
    "\n",
    "    for j in range (n):\n",
    "        coef = random.randint (minimum_guess, maximum_guess)\n",
    "        chromosome.append (coef)\n",
    "    \n",
    "    population = population + [[0, chromosome]]\n",
    "\n",
    "for i in range (len (population)):\n",
    "    f = fitness (n, population[i][1], points)\n",
    "\n",
    "    population[i][0] = f\n",
    "\n",
    "population2 = population.copy ()\n",
    "repeat_times2 = repeat_times"
   ]
  },
  {
   "cell_type": "markdown",
   "id": "ba530336",
   "metadata": {},
   "source": [
    "## Part 3: Implementation and creating the next generations"
   ]
  },
  {
   "cell_type": "markdown",
   "id": "e367de3f",
   "metadata": {},
   "source": [
    "Now, we implement the genetic algorithm and make nest generation.<br>\n",
    "First, we sort the population and then delete the soccend half of it. After that we apply crossover function and mutation function for chromosome. Fom two parents, two children are be created, so the size of the next generation equals to the previous one. If a chromosome with fitness less than or equal to the stop_fitness is created, We will stop the algoritm. We repeat this repeat_times times. After finishing, the chromosome with the lowest fitness is the answer"
   ]
  },
  {
   "cell_type": "code",
   "execution_count": 23,
   "id": "89ba2d9d",
   "metadata": {},
   "outputs": [],
   "source": [
    "# find the result with crossover1 function\n",
    "while (repeat_times > 0):\n",
    "    population.sort (key= lambda x: x[0])\n",
    "\n",
    "    if (population[0][0] <= stop_fitness):\n",
    "        break\n",
    "\n",
    "    population = population[:len (population) // 2]\n",
    "    \n",
    "    index_list = list (range (len (population)))\n",
    "\n",
    "    while (len (index_list) > 1):\n",
    "        parent1_index = random.choice (index_list)\n",
    "        index_list.remove (parent1_index)\n",
    "\n",
    "        parent2_index = random.choice (index_list)\n",
    "        index_list.remove (parent2_index)\n",
    "\n",
    "        child1, child2 = crossover (population[parent1_index][1], population[parent2_index][1])\n",
    "\n",
    "        child1 = mutation (child1, p_mutation, minimum_guess, maximum_guess)\n",
    "        child2 = mutation (child2, p_mutation, minimum_guess, maximum_guess)\n",
    "\n",
    "        population = population + [[0, child1]]\n",
    "        population = population + [[0, child2]]\n",
    "\n",
    "    for i in range (len (population)):\n",
    "        f = fitness (n, population[i][1], points)\n",
    "\n",
    "        population[i][0] = f\n",
    "    \n",
    "    repeat_times = repeat_times - 1\n",
    "\n",
    "population.sort (key= lambda x: x[0])\n",
    "\n",
    "result = population[0]\n",
    "\n",
    "fitness_result = result[0]\n",
    "chromosome_result = result[1]"
   ]
  },
  {
   "cell_type": "markdown",
   "id": "65a79979",
   "metadata": {},
   "source": [
    "## Part 4: Print and plot the result"
   ]
  },
  {
   "cell_type": "markdown",
   "id": "0bb7f551",
   "metadata": {},
   "source": [
    "Now, we print the result and plot it"
   ]
  },
  {
   "cell_type": "code",
   "execution_count": 24,
   "id": "5f46b160",
   "metadata": {},
   "outputs": [
    {
     "name": "stdout",
     "output_type": "stream",
     "text": [
      "coefficient:  [1, 2, 1]\n",
      "fitness:  1\n"
     ]
    },
    {
     "data": {
      "image/png": "[encoded data removed]",
      "text/plain": [
       "<Figure size 640x480 with 1 Axes>"
      ]
     },
     "metadata": {},
     "output_type": "display_data"
    }
   ],
   "source": [
    "# show the result\n",
    "print (\"coefficient: \", chromosome_result)\n",
    "print (\"fitness: \", fitness_result)\n",
    "\n",
    "plt.scatter (x_points, y_points, color= \"red\")\n",
    "\n",
    "x = list (range (min (x_points), max (x_points) + 1))\n",
    "\n",
    "y = []\n",
    "\n",
    "for i in range (len (x)):\n",
    "    y.append (poly (x[i], chromosome_result))\n",
    "\n",
    "plt.plot (x, y)\n",
    "\n",
    "plt.title (\"Curve Plot\")\n",
    "plt.xlabel (\"x\")\n",
    "plt.ylabel (\"y\")\n",
    "\n",
    "plt.show ()"
   ]
  },
  {
   "cell_type": "markdown",
   "id": "203ea57e",
   "metadata": {},
   "source": [
    "Now, we repeat the algorithm with seccond crossover function"
   ]
  },
  {
   "cell_type": "code",
   "execution_count": 12,
   "id": "e217e408",
   "metadata": {},
   "outputs": [],
   "source": [
    "# find result with crossover2 function\n",
    "while (repeat_times2 > 0):\n",
    "    population2.sort (key= lambda x: x[0])\n",
    "\n",
    "    if (population2[0][0] <= stop_fitness):\n",
    "        break\n",
    "\n",
    "    population2 = population2[:len (population2) // 2]\n",
    "    \n",
    "    index_list = list (range (len (population2)))\n",
    "\n",
    "    while (len (index_list) > 1):\n",
    "        parent1_index = random.choice (index_list)\n",
    "        index_list.remove (parent1_index)\n",
    "\n",
    "        parent2_index = random.choice (index_list)\n",
    "        index_list.remove (parent2_index)\n",
    "\n",
    "        child1, child2 = crossover2 (population2[parent1_index][1], population2[parent2_index][1])\n",
    "\n",
    "        child1 = mutation (child1, p_mutation, minimum_guess, maximum_guess)\n",
    "        child2 = mutation (child2, p_mutation, minimum_guess, maximum_guess)\n",
    "\n",
    "        population2 = population2 + [[0, child1]]\n",
    "        population2 = population2 + [[0, child2]]\n",
    "\n",
    "    for i in range (len (population2)):\n",
    "        f = fitness (n, population2[i][1], points)\n",
    "\n",
    "        population2[i][0] = f\n",
    "    \n",
    "    repeat_times2 = repeat_times2 - 1\n",
    "\n",
    "population2.sort (key= lambda x: x[0])\n",
    "\n",
    "result2 = population2[0]\n",
    "\n",
    "fitness_result2 = result2[0]\n",
    "chromosome_result2 = result2[1]"
   ]
  },
  {
   "cell_type": "code",
   "execution_count": 13,
   "id": "8138235b",
   "metadata": {},
   "outputs": [
    {
     "name": "stdout",
     "output_type": "stream",
     "text": [
      "coefficient:  [12, -4, 2, 0]\n",
      "fitness:  0\n"
     ]
    },
    {
     "data": {
      "image/png": "[encoded data removed]",
      "text/plain": [
       "<Figure size 640x480 with 1 Axes>"
      ]
     },
     "metadata": {},
     "output_type": "display_data"
    }
   ],
   "source": [
    "# show result\n",
    "print (\"coefficient: \", chromosome_result)\n",
    "print (\"fitness: \", fitness_result)\n",
    "\n",
    "plt.scatter (x_points, y_points, color= \"red\")\n",
    "\n",
    "x = list (range (min (x_points), max (x_points) + 1))\n",
    "\n",
    "y2 = []\n",
    "\n",
    "for i in range (len (x)):\n",
    "    y2.append (poly (x[i], chromosome_result2))\n",
    "\n",
    "plt.plot (x, y2)\n",
    "\n",
    "plt.title (\"Curve Plot\")\n",
    "plt.xlabel (\"x\")\n",
    "plt.ylabel (\"y\")\n",
    "\n",
    "plt.show ()"
   ]
  },
  {
   "cell_type": "markdown",
   "id": "f5920d1b",
   "metadata": {},
   "source": [
    "## Conclusion"
   ]
  },
  {
   "cell_type": "markdown",
   "id": "1fd05f73",
   "metadata": {},
   "source": [
    "Genetic algorithm one of the good way for solving curve fitting problem. It seems using 2 cut points crossover function give us a better result. But there are better ways for solving curve fitting in supervised learning."
   ]
  },
  {
   "cell_type": "markdown",
   "id": "98cd1fc6",
   "metadata": {},
   "source": [
    "## Questions"
   ]
  },
  {
   "cell_type": "markdown",
   "id": "b0af931c",
   "metadata": {},
   "source": [
    "1- If first population size is very small: Diversity can be limited and not to able find the solution - Convergence can happen very fast but not to optomal solution and stop searching for optimal solution - It can get stuck in local optima. <br>\n",
    "If first population size is very large: It can use more resources like memory and power - It takes a long time to converge - It needs more computation - It can cause overfitting. <br><br>\n",
    "2- Accuracy can be increase and the speed can be increase. <br><br>\n",
    "3- Crossover exchanges genes between parents and creates chromosomes that are more likely better than parents and it is necessary for convergance. Mutation adds to diversity. Crossover is more necessary. We can use just crossover, but it causes less accuracy, because crossover causes convergance. <br><br>\n",
    "4- We can set an stop fitness that when a solution with that or less is generated, it will stop. <br><br>\n",
    "5- Because the population converges and it won't change and it cause useless computation and it may reached not optimal solution. we can check at each time if it converged or not, we can increase first population size and we can increase mutation probabillity. <br><br>\n",
    "6- After a specific time if it don't converge, we will stop it. <br><br>\n",
    "7- It increases. <br><br>\n",
    "8- Increasing number of points can increase accuracy and converge faster."
   ]
  }
 ],
 "metadata": {
  "kernelspec": {
   "display_name": "Python 3 (ipykernel)",
   "language": "python",
   "name": "python3"
  },
  "language_info": {
   "codemirror_mode": {
    "name": "ipython",
    "version": 3
   },
   "file_extension": ".py",
   "mimetype": "text/x-python",
   "name": "python",
   "nbconvert_exporter": "python",
   "pygments_lexer": "ipython3",
   "version": "3.11.4"
  }
 },
 "nbformat": 4,
 "nbformat_minor": 5
}
